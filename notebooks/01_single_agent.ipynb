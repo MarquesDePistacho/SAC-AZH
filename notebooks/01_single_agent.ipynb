{
 "cells": [
  {
   "cell_type": "markdown",
   "id": "00e4399d",
   "metadata": {},
   "source": [
    "# SAC Agent Training and Evaluation"
   ]
  },
  {
   "cell_type": "markdown",
   "id": "445ebfaf-4abd-4bb6-b643-7bc99d8f373d",
   "metadata": {},
   "source": [
    "## Импорт необходимых модулей"
   ]
  },
  {
   "cell_type": "code",
   "execution_count": 1,
   "id": "2fa1092f",
   "metadata": {},
   "outputs": [
    {
     "name": "stderr",
     "output_type": "stream",
     "text": [
      "\"pytest\" �� ���� ����७��� ��� ���譥�\n",
      "��������, �ᯮ��塞�� �ணࠬ��� ��� ������ 䠩���.\n"
     ]
    }
   ],
   "source": [
    "!set PYTHONIOENCODING=utf-8 && pytest --capture=tee-sys"
   ]
  },
  {
   "cell_type": "code",
   "execution_count": 2,
   "id": "b8b6e5a9",
   "metadata": {},
   "outputs": [],
   "source": [
    "!set TORCH_USE_CUDA_DSA=1"
   ]
  },
  {
   "cell_type": "code",
   "execution_count": 3,
   "id": "53a6d15f-214b-4bff-acae-622126024382",
   "metadata": {},
   "outputs": [],
   "source": [
    "import os\n",
    "import sys\n",
    "import time\n",
    "import json\n",
    "import torch\n",
    "import numpy as np\n",
    "import gymnasium as gym\n",
    "import mlflow"
   ]
  },
  {
   "cell_type": "code",
   "execution_count": 4,
   "id": "9f35b4c0-9253-4635-94dc-af5dc68b8ff4",
   "metadata": {},
   "outputs": [],
   "source": [
    "parent_dir = os.path.abspath(os.path.join(os.getcwd(), \"..\"))\n",
    "if parent_dir not in sys.path:\n",
    "    sys.path.append(parent_dir)"
   ]
  },
  {
   "cell_type": "code",
   "execution_count": 5,
   "id": "a0dcc74f-36dc-4e8e-9070-ffa9bbb35b0b",
   "metadata": {},
   "outputs": [
    {
     "name": "stdout",
     "output_type": "stream",
     "text": [
      "2025-05-12 00:12:53 - sac_app:115 - INFO - Логгер настроен. Консоль: INFO, Файл: INFO\n"
     ]
    }
   ],
   "source": [
    "from core.training.trainer import train_agent\n",
    "from core.evaluation.evaluator import evaluate_agent\n",
    "from core.sac.factories import EnvFactory"
   ]
  },
  {
   "cell_type": "markdown",
   "id": "c28403b1",
   "metadata": {},
   "source": [
    "## Тестирование"
   ]
  },
  {
   "cell_type": "code",
   "execution_count": 5,
   "id": "1412728c",
   "metadata": {},
   "outputs": [
    {
     "name": "stdout",
     "output_type": "stream",
     "text": [
      "\u001b[1m============================= test session starts =============================\u001b[0m\n",
      "platform win32 -- Python 3.8.16, pytest-8.3.5, pluggy-1.5.0\n",
      "rootdir: c:\\Users\\artem\\Projects\\rl-race-1\n",
      "configfile: pytest.ini\n",
      "plugins: anyio-4.5.2, typeguard-4.3.0\n",
      "collected 29 items\n",
      "\n",
      "..\\tests\\test_alpha_component.py \u001b[32m.\u001b[0m\u001b[33m                                       [  3%]\u001b[0m\n",
      "..\\tests\\test_batching.py \u001b[32m.\u001b[0m\u001b[32m.\u001b[0m\u001b[32m.\u001b[0m\u001b[32m.\u001b[0m\u001b[33m                                           [ 17%]\u001b[0m\n",
      "..\\tests\\test_critic_networks.py \u001b[32m.\u001b[0m\u001b[32m.\u001b[0m\u001b[32m.\u001b[0m\u001b[32m.\u001b[0m\u001b[33m                                    [ 31%]\u001b[0m\n",
      "..\\tests\\test_device_manager.py \u001b[32m.\u001b[0m\u001b[32m.\u001b[0m\u001b[32m.\u001b[0m\u001b[32m.\u001b[0m\u001b[33m                                     [ 44%]\u001b[0m\n",
      "..\\tests\\test_flake8.py \u001b[33ms\u001b[0m\u001b[33m                                                [ 48%]\u001b[0m\n",
      "..\\tests\\test_losses.py \u001b[32m.\u001b[0m\u001b[32m.\u001b[0m\u001b[33m                                               [ 55%]\u001b[0m\n",
      "..\\tests\\test_mypy.py \u001b[33ms\u001b[0m\u001b[33m                                                  [ 58%]\u001b[0m\n",
      "..\\tests\\test_normalizers.py \u001b[32m.\u001b[0m\u001b[32m.\u001b[0m\u001b[33m                                          [ 65%]\u001b[0m\n",
      "..\\tests\\test_policy_networks.py \u001b[32m.\u001b[0m\u001b[32m.\u001b[0m\u001b[32m.\u001b[0m\u001b[33m                                     [ 75%]\u001b[0m\n",
      "..\\tests\\test_replay_buffers.py \u001b[32m.\u001b[0m\u001b[32m.\u001b[0m\u001b[32m.\u001b[0m\u001b[32m.\u001b[0m\u001b[32m.\u001b[0m\u001b[33m                                    [ 93%]\u001b[0m\n",
      "..\\tests\\test_segment_tree.py \u001b[32m.\u001b[0m\u001b[32m.\u001b[0m\u001b[33m                                         [100%]\u001b[0m\n",
      "\n",
      "\u001b[36m\u001b[1m=========================== short test summary info ===========================\u001b[0m\n",
      "\u001b[33mSKIPPED\u001b[0m [1] ..\\tests\\test_flake8.py:7: flake8 не установлен\n",
      "\u001b[33mSKIPPED\u001b[0m [1] ..\\tests\\test_mypy.py:8: mypy не установлен\n",
      "\u001b[33m================== \u001b[32m27 passed\u001b[0m, \u001b[33m\u001b[1m2 skipped\u001b[0m, \u001b[33m\u001b[1m1 warning\u001b[0m\u001b[33m in 4.58s\u001b[0m\u001b[33m ===================\u001b[0m\n"
     ]
    },
    {
     "data": {
      "text/plain": [
       "<ExitCode.OK: 0>"
      ]
     },
     "execution_count": 5,
     "metadata": {},
     "output_type": "execute_result"
    }
   ],
   "source": [
    "import os, sys, ipytest\n",
    "ipytest.autoconfig()\n",
    "\n",
    "import pytest\n",
    "pytest.main([\"../tests\", \"-v\", \"--disable-warnings\"])"
   ]
  },
  {
   "cell_type": "markdown",
   "id": "418f88c0",
   "metadata": {},
   "source": [
    "## 1. Настройка конфигурации"
   ]
  },
  {
   "cell_type": "markdown",
   "id": "af50d3f5",
   "metadata": {},
   "source": [
    "### Настраиваем MLflow (если нужен удаленный сервер)"
   ]
  },
  {
   "cell_type": "markdown",
   "id": "75b9a443",
   "metadata": {},
   "source": [
    "mlflow server --host 127.0.0.1 --port 5000 --backend-store-uri file:./mlruns"
   ]
  },
  {
   "cell_type": "code",
   "execution_count": 4,
   "id": "079649ee",
   "metadata": {},
   "outputs": [],
   "source": [
    "mlflow.set_tracking_uri(\"http://localhost:5000\")"
   ]
  },
  {
   "cell_type": "markdown",
   "id": "7c9618a6",
   "metadata": {},
   "source": [
    "### Базовая конфигурация для обучения"
   ]
  },
  {
   "cell_type": "code",
   "execution_count": 5,
   "id": "3c7bf6b9",
   "metadata": {},
   "outputs": [],
   "source": [
    "config = {\n",
    "    # --- Общие параметры Trainer & Logger ---\n",
    "    'seed': 42,\n",
    "    'exp_name': 'sac_lstm_unity_prio_seq', \n",
    "    'device': 'cuda',\n",
    "    'save_dir': 'results',          # Используется TrainingLogger для сохранения config.json и метрик\n",
    "    'model_name': 'sac_agent',      # Используется SACTrainer для имен чекпоинтов\n",
    "    'save_checkpoints': True,      # Нужно ли сохранять чекпоинты\n",
    "    'keep_last_n_checkpoints': 3,  # Количество сохраняемых чекпоинтов (0 - хранить все)\n",
    "    'load_checkpoint_path': None, # Путь для загрузки чекпоинта при старте\n",
    "    'log_interval': 1000,         # Интервал логирования метрик (шаги)\n",
    "    'save_interval': 100000,        # Интервал сохранения чекпоинтов (шаги) \n",
    "    'print_interval_episodes': 10, # Как часто выводить прогресс в консоль (эпизоды)\n",
    "    'cudnn_deterministic': True,   # Для воспроизводимости на CUDA\n",
    "    'cudnn_benchmark': False,      # Может ускорить, но снизить воспроизводимость\n",
    "\n",
    "    # --- Параметры MLflow (для TrainingLogger) ---\n",
    "    'mlflow_tracking_uri': None,  # URI для MLflow сервера \n",
    "    'mlflow_experiment_name': 'SAC_Unity', # Название эксперимента\n",
    "    'mlflow_run_name': None,      # Название запуска, None для автогенерации\n",
    "    'log_system_info': True,      # Логировать системную информацию\n",
    "    'log_memory_usage': True,     # Логировать использование памяти\n",
    "\n",
    "    # --- Параметры обучения (для SACTrainer) ---\n",
    "    'max_steps': 250000,          # Общее количество шагов обучения\n",
    "    'episode_max_steps': 25000,   # Максимальное количество шагов в эпизоде\n",
    "    'batch_size': 128,            # Размер батча для обновления агента\n",
    "    'update_after': 1000,        # Шаг, после которого начинаются обновления\n",
    "    'start_steps': 1000,         # Шаги со случайными действиями \n",
    "    'updates_per_step': 1,        # Сколько раз вызывать agent.perform_updates за шаг тренера\n",
    "    'reward_scale': 1.0,          # Масштабирование награды перед добавлением в буфер\n",
    "    'clear_cuda_cache_interval_episodes': 4, # Как часто очищать кэш CUDA (эпизоды)\n",
    "\n",
    "    # --- Конфигурация агента (для SACAgentFactory) ---\n",
    "    'agent_config': {\n",
    "        'obs_dim': None, \n",
    "        'action_dim': None, \n",
    "        'device': 'cuda', \n",
    "\n",
    "        # -- Архитектура сетей --\n",
    "        'hidden_dim': 64,\n",
    "        'num_layers': 2,\n",
    "        'activation_fn': 'leaky_relu',\n",
    "        'use_lstm': False,\n",
    "        'use_layer_norm': True,\n",
    "        'dropout': 0.0, \n",
    "\n",
    "        # -- Параметры оптимизации --\n",
    "        'optimizer_type': 'adam', \n",
    "        'actor_lr': 3e-4,   \n",
    "        'critic_lr': 3e-4,  \n",
    "        'alpha_lr': 3e-4,   \n",
    "        'weight_decay': 0.0,\n",
    "        'optimizer_kwargs': {}, # Дополнительные аргументы для оптимизатора (напр. betas для Adam)\n",
    "\n",
    "        # -- Гиперпараметры SAC --\n",
    "        'gamma': 0.99,\n",
    "        'tau': 0.005,\n",
    "        'alpha': 0.2,\n",
    "        'learn_alpha': True,\n",
    "        'target_entropy': None, # None = auto-calculate\n",
    "        'clip_grad_norm_actor': 1.0, \n",
    "        'clip_grad_norm_critic': 1.0,\n",
    "        'clip_grad_norm_alpha': 1.0,\n",
    "\n",
    "\n",
    "        # -- Конфигурация буфера (для ReplayBufferFactory) --\n",
    "        'buffer_config': {\n",
    "            'capacity': 1000000, \n",
    "            'use_prioritized': True, # Использовать приоритетный буфер\n",
    "            'alpha': 0.6,      \n",
    "            'beta': 0.4,       \n",
    "            'beta_annealing_steps': 90000, # Формула: (train_steps - update_after) / updates_per_step\n",
    "            'epsilon': 1e-6,   \n",
    "            'use_sequence': False,\n",
    "            'sequence_length': 10,\n",
    "            'storage_dtype': 'float16' # Тип для хранения данных в буфере\n",
    "        },\n",
    "\n",
    "        # -- Конфигурация нормализатора (для NormalizerFactory) --\n",
    "        'normalizer_config': {\n",
    "            'use_normalizer': True,\n",
    "            'normalizer_type': 'welford',\n",
    "            'clip_range': 10.0,\n",
    "            'normalizer_epsilon': 1e-8 \n",
    "        },\n",
    "\n",
    "        # -- Конфигурация Warm Start (для WarmStartFactory) --\n",
    "        'warm_start_config': {\n",
    "            'use_warm_start': False,\n",
    "            'warm_start_type': 'decision_tree', \n",
    "            'warm_start_steps': 10000,\n",
    "            'warm_start_random_steps': 1000,\n",
    "            'warm_start_max_depth': 5,\n",
    "            'warm_start_min_samples_split': 2,\n",
    "            'warm_start_random_state': 42,\n",
    "            'warm_start_noise': 0.1 \n",
    "        },\n",
    "\n",
    "        'storage_dtype': 'float16' # Общий тип для хранения данных \n",
    "    },\n",
    "\n",
    "    # --- Параметры экспорта ONNX (для SACTrainer) ---\n",
    "    'export_onnx': True,\n",
    "    'export_dir': 'onnx_export', # Имя директории для ONNX файлов внутри save_dir\n",
    "    'onnx_input_shape': None, # Форма входа для ONNX, None для автоопределения (1,1,obs_dim) для LSTM\n",
    "\n",
    "    # --- Конфигурация окружения (для EnvFactory) ---\n",
    "    'env_config': {\n",
    "        # Укажите путь к вашему Unity-окружению\n",
    "        'env_name': r'C:\\Users\\artem\\Projects\\SAC\\envs\\Windows_Alone\\UnityEnvironment.exe',  # Измените на ваш путь\n",
    "        'file_name': r'C:\\Users\\artem\\Projects\\SAC\\envs\\Windows_Alone\\UnityEnvironment.exe',  # Измените на ваш путь\n",
    "        'worker_id': 1,\n",
    "        'base_port': 5005, \n",
    "        'seed': 42, # Seed для окружения\n",
    "        'side_channels': [], # Пустой список, если нет SideChannels\n",
    "        'timeout_wait': 60, # Таймаут ожидания\n",
    "        'no_graphics': True, # Если не нужна графика Unity\n",
    "        'time_scale': 20.0,\n",
    "        'flatten_obs': True,\n",
    "        'normalize_actions': False,\n",
    "    }\n",
    "}\n",
    "\n",
    "# --- Расчет annealing steps для beta ---\n",
    "# Общее число шагов обновлений = (train_steps - update_after) / updates_per_step\n",
    "total_updates = (config['max_steps'] - config['update_after']) // config['updates_per_step']\n",
    "if total_updates > 0:\n",
    "    config['agent_config']['buffer_config']['beta_annealing_steps'] = total_updates\n",
    "else:\n",
    "    config['agent_config']['buffer_config']['beta_annealing_steps'] = None # Не будет отжига, если обновления не начнутся\n"
   ]
  },
  {
   "cell_type": "markdown",
   "id": "bb1ab89e",
   "metadata": {},
   "source": [
    "### Опция загрузки существующей модели"
   ]
  },
  {
   "cell_type": "code",
   "execution_count": null,
   "id": "ce4637e0",
   "metadata": {},
   "outputs": [],
   "source": [
    "# Загружаем существующий чекпоинт\n",
    "config['load_checkpoint_path'] = 'results/sac_agent_best.pth'\n",
    "\n",
    "print(f\"Обучение на устройстве: {config['device']}\")\n",
    "print(f\"Среда: {config['env_config']['env_name']}\")\n",
    "print(f\"Количество шагов: {config['max_steps']}\")\n",
    "if config['load_checkpoint_path']:\n",
    "    print(f\"Загрузка чекпоинта из: {config['load_checkpoint_path']}\")"
   ]
  },
  {
   "cell_type": "markdown",
   "id": "b9f035be-cc33-4f2a-8be1-088e415143b8",
   "metadata": {},
   "source": [
    "## 2. Создание среды для проверки"
   ]
  },
  {
   "cell_type": "code",
   "execution_count": null,
   "id": "24a25c18-e1c6-45ee-9845-71a0ab13f7ba",
   "metadata": {},
   "outputs": [],
   "source": [
    "env_factory = EnvFactory()\n",
    "env = env_factory.create_gym_env(\n",
    "    env_name=config['env_config']['env_name'],\n",
    "    config=config['env_config']\n",
    ")"
   ]
  },
  {
   "cell_type": "code",
   "execution_count": null,
   "id": "fda7fb9b-566f-42a1-978a-37f807b781d4",
   "metadata": {},
   "outputs": [],
   "source": [
    "print(f\"Observation space: {env.observation_space}\")\n",
    "print(f\"Action space: {env.action_space}\")"
   ]
  },
  {
   "cell_type": "code",
   "execution_count": null,
   "id": "71e16730",
   "metadata": {},
   "outputs": [],
   "source": [
    "observation = env.reset()\n",
    "print(f\"Observation shape: {observation.shape}\")"
   ]
  },
  {
   "cell_type": "code",
   "execution_count": null,
   "id": "1bb2bff4",
   "metadata": {},
   "outputs": [],
   "source": [
    "action = env.action_space.sample()\n",
    "print(f\"Action shape: {action.shape}\")"
   ]
  },
  {
   "cell_type": "code",
   "execution_count": null,
   "id": "a08e8e5b",
   "metadata": {},
   "outputs": [],
   "source": [
    "next_observation, reward, terminated, truncated = env.step(action)\n",
    "print(f\"Next observation shape: {next_observation.shape}\")\n",
    "print(f\"Reward: {reward}\")\n",
    "print(f\"Terminated: {terminated}\")\n",
    "print(f\"Truncated: {truncated}\")"
   ]
  },
  {
   "cell_type": "code",
   "execution_count": null,
   "id": "5d5c0cb4",
   "metadata": {},
   "outputs": [],
   "source": [
    "env.close()"
   ]
  },
  {
   "cell_type": "markdown",
   "id": "4657e7cd",
   "metadata": {},
   "source": [
    "## 3. Обучение агентa"
   ]
  },
  {
   "cell_type": "code",
   "execution_count": null,
   "id": "a9467d1c",
   "metadata": {},
   "outputs": [],
   "source": [
    "print(\"Начало обучения...\")\n",
    "start_time = time.time()\n",
    "\n",
    "# Создаем окружение заново (так как закрыли его выше)\n",
    "env = env_factory.create_gym_env(\n",
    "    env_name=config['env_config']['env_name'],\n",
    "    config=config['env_config']\n",
    ")\n",
    "\n",
    "# Запуск процесса обучения\n",
    "results = train_agent(config, env)\n",
    "\n",
    "elapsed_time = time.time() - start_time\n",
    "print(f\"Обучение завершено за {elapsed_time:.2f} секунд\")\n",
    "print(f\"Результаты: {json.dumps(results, indent=2)}\")"
   ]
  },
  {
   "cell_type": "markdown",
   "id": "72315dd0",
   "metadata": {},
   "source": [
    "## 4. Оценка обученного агента"
   ]
  },
  {
   "cell_type": "code",
   "execution_count": null,
   "id": "e456effb",
   "metadata": {},
   "outputs": [],
   "source": [
    "eval_config = config.copy()\n",
    "eval_config['mlflow_experiment_name'] = 'SAC_Evaluation'\n",
    "eval_config['mlflow_run_name'] = f'eval_run_{time.strftime(\"%Y%m%d_%H%M%S\")}'"
   ]
  },
  {
   "cell_type": "code",
   "execution_count": null,
   "id": "42a54911",
   "metadata": {},
   "outputs": [],
   "source": [
    "# Путь к лучшей модели\n",
    "model_path = os.path.join(config['save_dir'], f\"{config.get('model_name', 'sac_agent')}_best.pth\")\n",
    "eval_config['load_checkpoint_path'] = model_path\n",
    "\n",
    "print(f\"Оценка модели из: {model_path}\")\n",
    "\n",
    "# Создаем новое окружение для оценки\n",
    "eval_env = env_factory.create_gym_env(\n",
    "    env_name=config['env_config']['env_name'],\n",
    "    config=config['env_config']\n",
    ")\n",
    "\n",
    "eval_results = evaluate_agent(\n",
    "    config=eval_config,\n",
    "    env=eval_env,\n",
    "    n_episodes=10,\n",
    "    deterministic=True\n",
    ")\n",
    "\n",
    "print(f\"Результаты оценки:\")\n",
    "print(f\"Средняя награда: {eval_results['mean_return']:.2f} ± {eval_results['std_return']:.2f}\")\n",
    "print(f\"Средняя длина эпизода: {eval_results['mean_length']:.2f}\")\n",
    "\n",
    "# Закрываем окружение оценки\n",
    "eval_env.close()"
   ]
  },
  {
   "cell_type": "markdown",
   "id": "b5ce67d8",
   "metadata": {},
   "source": [
    "## 5. Просмотр результатов в MLflow"
   ]
  },
  {
   "cell_type": "code",
   "execution_count": null,
   "id": "03879f03",
   "metadata": {},
   "outputs": [],
   "source": [
    "# Запустите MLflow UI если хотите просмотреть результаты (в отдельном терминале)\n",
    "# !mlflow ui\n",
    "\n",
    "# Или откройте браузер с адресом\n",
    "print(\"Откройте браузер по адресу http://localhost:5000 для просмотра результатов MLflow\")"
   ]
  }
 ],
 "metadata": {
  "kernelspec": {
   "display_name": "py38",
   "language": "python",
   "name": "python3"
  },
  "language_info": {
   "codemirror_mode": {
    "name": "ipython",
    "version": 3
   },
   "file_extension": ".py",
   "mimetype": "text/x-python",
   "name": "python",
   "nbconvert_exporter": "python",
   "pygments_lexer": "ipython3",
   "version": "3.8.16"
  }
 },
 "nbformat": 4,
 "nbformat_minor": 5
}
